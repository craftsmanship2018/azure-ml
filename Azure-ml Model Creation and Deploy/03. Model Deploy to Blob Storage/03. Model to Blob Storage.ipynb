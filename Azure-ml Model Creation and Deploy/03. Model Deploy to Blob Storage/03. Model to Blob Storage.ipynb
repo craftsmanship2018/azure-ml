{
 "cells": [
  {
   "cell_type": "markdown",
   "metadata": {},
   "source": [
    "# Uploading our Model to Blob storage"
   ]
  },
  {
   "cell_type": "code",
   "execution_count": 2,
   "metadata": {},
   "outputs": [
    {
     "data": {
      "text/plain": [
       "<azure.storage.blob.models.ResourceProperties at 0x87339b0>"
      ]
     },
     "execution_count": 2,
     "metadata": {},
     "output_type": "execute_result"
    }
   ],
   "source": [
    "from azure.storage.blob import BlockBlobService, PublicAccess\n",
    "\n",
    "block_blob_service = BlockBlobService(account_name='blobcontainernamehere',account_key='accountkeynamehere')\n",
    "\n",
    "#Create a container\n",
    "container_name = 'machinelearnblob'\n",
    "block_blob_service.create_container(container_name)\n",
    "\n",
    "# Set the permission so the blobs are public\n",
    "block_blob_service.set_container_acl(container_name,public_access=PublicAccess.Container)\n",
    "\n",
    "#Upload our model created in the other processes\n",
    "local_file_name=\"car_prediction_model.pkl\"\n",
    "full_path_to_file=\"../car_prediction_model.pkl\"\n",
    "\n",
    "block_blob_service.create_blob_from_path(container_name, local_file_name,full_path_to_file)"
   ]
  },
  {
   "cell_type": "code",
   "execution_count": null,
   "metadata": {},
   "outputs": [],
   "source": []
  }
 ],
 "metadata": {
  "kernelspec": {
   "display_name": "Python 3",
   "language": "python",
   "name": "python3"
  },
  "language_info": {
   "codemirror_mode": {
    "name": "ipython",
    "version": 3
   },
   "file_extension": ".py",
   "mimetype": "text/x-python",
   "name": "python",
   "nbconvert_exporter": "python",
   "pygments_lexer": "ipython3",
   "version": "3.6.5"
  }
 },
 "nbformat": 4,
 "nbformat_minor": 2
}
